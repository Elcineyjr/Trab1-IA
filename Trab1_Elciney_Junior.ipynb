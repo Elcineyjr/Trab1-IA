{
 "cells": [
  {
   "attachments": {},
   "cell_type": "markdown",
   "metadata": {},
   "source": [
    "# Trabalho 1 - Inteligência Artificial"
   ]
  },
  {
   "attachments": {},
   "cell_type": "markdown",
   "metadata": {},
   "source": [
    "## Imports necessários"
   ]
  },
  {
   "cell_type": "code",
   "execution_count": 32,
   "metadata": {},
   "outputs": [],
   "source": [
    "import pandas as pd\n",
    "import numpy as np\n",
    "import seaborn as sns\n",
    "from scipy import stats\n",
    "from sklearn.model_selection import cross_val_score, RepeatedStratifiedKFold, GridSearchCV\n",
    "from sklearn.preprocessing import StandardScaler\n",
    "from sklearn.pipeline import Pipeline\n",
    "from sklearn.dummy import DummyClassifier\n",
    "from sklearn.ensemble import BaggingClassifier, AdaBoostClassifier\n",
    "from sklearn.naive_bayes import GaussianNB\n",
    "from sklearn.ensemble import RandomForestClassifier\n",
    "from sklearn.utils import resample\n",
    "from sklearn.utils.validation import check_X_y\n",
    "from sklearn.tree import DecisionTreeClassifier\n",
    "from sklearn.naive_bayes import GaussianNB\n",
    "from sklearn.neighbors import KNeighborsClassifier\n",
    "from collections import Counter\n",
    "from sklearn.base import BaseEstimator"
   ]
  },
  {
   "attachments": {},
   "cell_type": "markdown",
   "metadata": {},
   "source": [
    "## Base de dados\n",
    "\n",
    "### Matrícula: 2015100346\n",
    "Dessa forma, devido ao final da matrícula ser 6, a base de dados será composta pelos 10 descritores de Fourier e os 7 descritores de Hu."
   ]
  },
  {
   "cell_type": "code",
   "execution_count": 3,
   "metadata": {},
   "outputs": [
    {
     "name": "stdout",
     "output_type": "stream",
     "text": [
      "id\n",
      "355    metalica400\n",
      "356    metalica400\n",
      "357    metalica400\n",
      "358    metalica400\n",
      "359    metalica400\n",
      "          ...     \n",
      "656    metalica250\n",
      "657    metalica250\n",
      "658    metalica250\n",
      "659    metalica250\n",
      "660    metalica250\n",
      "Length: 297, dtype: object\n"
     ]
    },
    {
     "data": {
      "text/html": [
       "<div>\n",
       "<style scoped>\n",
       "    .dataframe tbody tr th:only-of-type {\n",
       "        vertical-align: middle;\n",
       "    }\n",
       "\n",
       "    .dataframe tbody tr th {\n",
       "        vertical-align: top;\n",
       "    }\n",
       "\n",
       "    .dataframe thead th {\n",
       "        text-align: right;\n",
       "    }\n",
       "</style>\n",
       "<table border=\"1\" class=\"dataframe\">\n",
       "  <thead>\n",
       "    <tr style=\"text-align: right;\">\n",
       "      <th></th>\n",
       "      <th>df01</th>\n",
       "      <th>df02</th>\n",
       "      <th>df03</th>\n",
       "      <th>df04</th>\n",
       "      <th>df05</th>\n",
       "      <th>df06</th>\n",
       "      <th>df07</th>\n",
       "      <th>df08</th>\n",
       "      <th>df09</th>\n",
       "      <th>df10</th>\n",
       "      <th>i1</th>\n",
       "      <th>i2</th>\n",
       "      <th>i3</th>\n",
       "      <th>i4</th>\n",
       "      <th>i5</th>\n",
       "      <th>i6</th>\n",
       "      <th>i7</th>\n",
       "    </tr>\n",
       "    <tr>\n",
       "      <th>id</th>\n",
       "      <th></th>\n",
       "      <th></th>\n",
       "      <th></th>\n",
       "      <th></th>\n",
       "      <th></th>\n",
       "      <th></th>\n",
       "      <th></th>\n",
       "      <th></th>\n",
       "      <th></th>\n",
       "      <th></th>\n",
       "      <th></th>\n",
       "      <th></th>\n",
       "      <th></th>\n",
       "      <th></th>\n",
       "      <th></th>\n",
       "      <th></th>\n",
       "      <th></th>\n",
       "    </tr>\n",
       "  </thead>\n",
       "  <tbody>\n",
       "    <tr>\n",
       "      <th>355</th>\n",
       "      <td>0.087961</td>\n",
       "      <td>0.054059</td>\n",
       "      <td>0.025210</td>\n",
       "      <td>0.027471</td>\n",
       "      <td>0.012834</td>\n",
       "      <td>0.008374</td>\n",
       "      <td>0.004592</td>\n",
       "      <td>0.005163</td>\n",
       "      <td>0.004747</td>\n",
       "      <td>0.003075</td>\n",
       "      <td>0.168084</td>\n",
       "      <td>0.000615</td>\n",
       "      <td>0.000131</td>\n",
       "      <td>5.717751e-05</td>\n",
       "      <td>3.808159e-09</td>\n",
       "      <td>-1.417337e-06</td>\n",
       "      <td>3.153370e-09</td>\n",
       "    </tr>\n",
       "    <tr>\n",
       "      <th>356</th>\n",
       "      <td>0.018333</td>\n",
       "      <td>0.064192</td>\n",
       "      <td>0.021335</td>\n",
       "      <td>0.028935</td>\n",
       "      <td>0.012263</td>\n",
       "      <td>0.011230</td>\n",
       "      <td>0.003566</td>\n",
       "      <td>0.005862</td>\n",
       "      <td>0.003746</td>\n",
       "      <td>0.003779</td>\n",
       "      <td>0.164507</td>\n",
       "      <td>0.001087</td>\n",
       "      <td>0.000043</td>\n",
       "      <td>1.011576e-08</td>\n",
       "      <td>-5.395931e-15</td>\n",
       "      <td>-6.859661e-11</td>\n",
       "      <td>3.907229e-15</td>\n",
       "    </tr>\n",
       "  </tbody>\n",
       "</table>\n",
       "</div>"
      ],
      "text/plain": [
       "         df01      df02      df03      df04      df05      df06      df07   \n",
       "id                                                                          \n",
       "355  0.087961  0.054059  0.025210  0.027471  0.012834  0.008374  0.004592  \\\n",
       "356  0.018333  0.064192  0.021335  0.028935  0.012263  0.011230  0.003566   \n",
       "\n",
       "         df08      df09      df10        i1        i2        i3            i4   \n",
       "id                                                                              \n",
       "355  0.005163  0.004747  0.003075  0.168084  0.000615  0.000131  5.717751e-05  \\\n",
       "356  0.005862  0.003746  0.003779  0.164507  0.001087  0.000043  1.011576e-08   \n",
       "\n",
       "               i5            i6            i7  \n",
       "id                                             \n",
       "355  3.808159e-09 -1.417337e-06  3.153370e-09  \n",
       "356 -5.395931e-15 -6.859661e-11  3.907229e-15  "
      ]
     },
     "execution_count": 3,
     "metadata": {},
     "output_type": "execute_result"
    }
   ],
   "source": [
    "# Leitura dos dados\n",
    "df = pd.read_csv('https://raw.githubusercontent.com/VitorBonella/PL-Dataset/main/dataset.csv',sep=\";\") \n",
    "\n",
    "# Transformando a coluna id no índice da tabela\n",
    "df.set_index('id', inplace=True)\n",
    "\n",
    "# Lista de descritores\n",
    "FOURIER = ['df01', 'df02', 'df03', 'df04','df05', 'df06', 'df07', 'df08', 'df09', 'df10']\n",
    "HU = ['i1', 'i2', 'i3', 'i4','i5', 'i6', 'i7']\n",
    "HARALICK = ['probmax', 'energia', 'entropia', 'contraste','homogeneidade', 'correlacao']\n",
    "\n",
    "# Descritores que serão usados nesse trabalho\n",
    "dataset = df[FOURIER + HU] \n",
    "\n",
    "# Transformação dos dados de string para float devido ao uso da vírgula ao invés do ponto\n",
    "dataset = dataset.apply(lambda x: x.str.replace(',', '.').astype(float), axis=1)\n",
    "\n",
    "# Criação das classes baseada no tipo da lâmpada e na potência\n",
    "classes = df['tipo_lampada'].str.replace(\" \", \"\") + df['potencia'].astype(str) \n",
    "\n",
    "# Adiciona a classe ao data frame da base de dados\n",
    "# dataset['classe'] = df['tipo_lampada'].str.replace(\" \", \"\") + df['potencia'].astype(str) \n",
    "\n",
    "# Define a base de dados e as classes target\n",
    "dataset_X = dataset\n",
    "dataset_Y = classes\n",
    "\n",
    "# from sklearn import datasets\n",
    "# dataset = datasets.load_breast_cancer()\n",
    "# dataset_X = dataset.data\n",
    "# dataset_Y = dataset.target\n",
    "\n",
    "print(classes)\n",
    "dataset.head(2)\n"
   ]
  },
  {
   "attachments": {},
   "cell_type": "markdown",
   "metadata": {},
   "source": [
    "# Cálculo dos resultados"
   ]
  },
  {
   "cell_type": "code",
   "execution_count": 4,
   "metadata": {},
   "outputs": [],
   "source": [
    "def classification_report(scores):\n",
    "    print(f'\\nMédia: {scores.mean():.5f}, Desvio Padrão: {scores.std():.5f}')\n",
    "\n",
    "    inf, sup = stats.norm.interval(0.95, loc=scores.mean(), \n",
    "                               scale=scores.std()/np.sqrt(len(scores)))\n",
    "    \n",
    "    print(f'Intervalo de confiança (95%): [{inf:.5f},{sup:.5f}]')"
   ]
  },
  {
   "attachments": {},
   "cell_type": "markdown",
   "metadata": {},
   "source": [
    "# ZeroR (ZR)"
   ]
  },
  {
   "cell_type": "code",
   "execution_count": 5,
   "metadata": {},
   "outputs": [
    {
     "name": "stdout",
     "output_type": "stream",
     "text": [
      "[0.16666667 0.13333333 0.16666667 0.16666667 0.16666667 0.16666667\n",
      " 0.16666667 0.17241379 0.17241379 0.17241379 0.16666667 0.13333333\n",
      " 0.16666667 0.16666667 0.16666667 0.16666667 0.16666667 0.17241379\n",
      " 0.17241379 0.17241379 0.16666667 0.13333333 0.16666667 0.16666667\n",
      " 0.16666667 0.16666667 0.16666667 0.17241379 0.17241379 0.17241379]\n",
      "\n",
      "Média: 0.16506, Desvio Padrão: 0.01088\n",
      "Intervalo de confiança (95%): [0.16116,0.16895]\n"
     ]
    }
   ],
   "source": [
    "zR = DummyClassifier(random_state=11)\n",
    "\n",
    "pipeline = Pipeline([('transformer', StandardScaler()), ('estimator', zR)])\n",
    "\n",
    "rkf = RepeatedStratifiedKFold(n_splits=10, n_repeats=3, random_state=36851234)\n",
    "\n",
    "scores_zR = cross_val_score(pipeline, dataset_X, dataset_Y, scoring='accuracy', cv = rkf)\n",
    "\n",
    "# print(scores_zR)\n",
    "\n",
    "classification_report(scores_zR)"
   ]
  },
  {
   "attachments": {},
   "cell_type": "markdown",
   "metadata": {},
   "source": [
    "# Bagging (BA)"
   ]
  },
  {
   "cell_type": "code",
   "execution_count": 6,
   "metadata": {},
   "outputs": [
    {
     "name": "stdout",
     "output_type": "stream",
     "text": [
      "[0.3        0.26666667 0.2        0.43333333 0.43333333 0.33333333\n",
      " 0.2        0.27586207 0.4137931  0.48275862 0.3        0.23333333\n",
      " 0.26666667 0.26666667 0.33333333 0.56666667 0.4        0.37931034\n",
      " 0.37931034 0.31034483 0.26666667 0.5        0.2        0.4\n",
      " 0.26666667 0.23333333 0.36666667 0.4137931  0.31034483 0.24137931]\n",
      "\n",
      "Média: 0.33245, Desvio Padrão: 0.09350\n",
      "Intervalo de confiança (95%): [0.29899,0.36591]\n"
     ]
    }
   ],
   "source": [
    "grade = {'estimator__n_estimators':[3, 9, 15, 21]}\n",
    "\n",
    "# TODO\n",
    "# Talvez usar um estimador diferente no final do ensemble\n",
    "# Opções: Decision Tree, Random Forest, K-Nearest Neighbors (KNN), Support Vector Machines (SVM)\n",
    "bg = BaggingClassifier(estimator=GaussianNB(), random_state=11)\n",
    "\n",
    "pipeline = Pipeline([('transformer', StandardScaler()), ('estimator', bg)])\n",
    "\n",
    "gs = GridSearchCV(estimator=pipeline, param_grid=grade, scoring='accuracy', cv=4)\n",
    "\n",
    "rkf = RepeatedStratifiedKFold(n_splits=10, n_repeats=3, random_state=36851234)\n",
    "\n",
    "scores_BA = cross_val_score(gs, dataset_X, dataset_Y, scoring='accuracy', cv = rkf)\n",
    "\n",
    "# print(scores_BA)\n",
    "\n",
    "classification_report(scores_BA)"
   ]
  },
  {
   "attachments": {},
   "cell_type": "markdown",
   "metadata": {},
   "source": [
    "# AdaBoost (AB)"
   ]
  },
  {
   "cell_type": "code",
   "execution_count": 7,
   "metadata": {},
   "outputs": [
    {
     "name": "stdout",
     "output_type": "stream",
     "text": [
      "[0.46666667 0.16666667 0.33333333 0.33333333 0.23333333 0.2\n",
      " 0.26666667 0.37931034 0.20689655 0.48275862 0.3        0.23333333\n",
      " 0.4        0.26666667 0.46666667 0.26666667 0.2        0.51724138\n",
      " 0.24137931 0.31034483 0.23333333 0.33333333 0.33333333 0.3\n",
      " 0.33333333 0.2        0.36666667 0.27586207 0.34482759 0.4137931 ]\n",
      "\n",
      "Média: 0.31352, Desvio Padrão: 0.09113\n",
      "Intervalo de confiança (95%): [0.28091,0.34614]\n"
     ]
    }
   ],
   "source": [
    "grade = {'estimator__n_estimators':[3, 9, 15, 21]}\n",
    "\n",
    "# TODO\n",
    "# Talvez usar um estimador diferente no final do ensemble\n",
    "# Opções: Decision Tree, Random Forest, K-Nearest Neighbors (KNN), Support Vector Machines (SVM)\n",
    "adb = AdaBoostClassifier(estimator=GaussianNB(), random_state=11)\n",
    "\n",
    "pipeline = Pipeline([('transformer', StandardScaler()), ('estimator', adb)])\n",
    "\n",
    "gs = GridSearchCV(estimator=pipeline, param_grid=grade, scoring='accuracy', cv=4)\n",
    "\n",
    "rkf = RepeatedStratifiedKFold(n_splits=10, n_repeats=3, random_state=36851234)\n",
    "\n",
    "scores_AB = cross_val_score(gs, dataset_X, dataset_Y, scoring='accuracy', cv = rkf)\n",
    "\n",
    "# print(scores_AB)\n",
    "\n",
    "classification_report(scores_AB)"
   ]
  },
  {
   "attachments": {},
   "cell_type": "markdown",
   "metadata": {},
   "source": [
    "# RandomForest (RF)"
   ]
  },
  {
   "cell_type": "code",
   "execution_count": 8,
   "metadata": {},
   "outputs": [
    {
     "name": "stdout",
     "output_type": "stream",
     "text": [
      "[0.46666667 0.3        0.4        0.46666667 0.6        0.53333333\n",
      " 0.4        0.65517241 0.51724138 0.5862069  0.5        0.53333333\n",
      " 0.56666667 0.46666667 0.4        0.53333333 0.4        0.68965517\n",
      " 0.48275862 0.4137931  0.63333333 0.6        0.33333333 0.5\n",
      " 0.63333333 0.5        0.6        0.51724138 0.51724138 0.55172414]\n",
      "\n",
      "Média: 0.50992, Desvio Padrão: 0.09314\n",
      "Intervalo de confiança (95%): [0.47659,0.54325]\n"
     ]
    }
   ],
   "source": [
    "grade = {'randomForest__n_estimators': [3, 9, 15, 21]}\n",
    "\n",
    "rF = RandomForestClassifier(random_state=11)\n",
    "\n",
    "pipeline = Pipeline([('transformer', StandardScaler()), ('randomForest', rF)])\n",
    "\n",
    "gs = GridSearchCV(estimator=pipeline, param_grid=grade, scoring='accuracy', cv = 4)\n",
    "\n",
    "rkf = RepeatedStratifiedKFold(n_splits=10, n_repeats=3, random_state=36851234)\n",
    "\n",
    "scores_RF = cross_val_score(gs, dataset_X, dataset_Y, scoring='accuracy', cv = rkf)\n",
    "\n",
    "# print(scores_RF)\n",
    "\n",
    "classification_report(scores_RF)\n"
   ]
  },
  {
   "attachments": {},
   "cell_type": "markdown",
   "metadata": {},
   "source": [
    "# Heterogeneous Pooling (HP)"
   ]
  },
  {
   "cell_type": "code",
   "execution_count": 28,
   "metadata": {},
   "outputs": [],
   "source": [
    "class HeterogeneousPoolingClassifier(BaseEstimator):\n",
    "    def __init__(self, n_samples):\n",
    "        super().__init__()\n",
    "        self.n_samples = n_samples\n",
    "        \n",
    "        # Lista com os classificadores treinados\n",
    "        self.classifiers = []\n",
    "\n",
    "        # Lista de classes ordenada de forma decrescente pela quantidade de aparições\n",
    "        self.target_frequency_desc = []\n",
    "\n",
    "    def fit(self, x_train, y_train):\n",
    "        x_train, y_train = check_X_y(x_train, y_train)\n",
    "        self.target_frequency_desc = self.get_target_frequency_desc(y_train)\n",
    "\n",
    "        for i in range(self.n_samples):\n",
    "            # A primeira iteração usa a base original para treinamento\n",
    "            if i == 0:\n",
    "                current_x_train, current_y_train = x_train, y_train\n",
    "            else:\n",
    "                # Base diferente da original usando resample\n",
    "                current_x_train, current_y_train = resample(x_train, y_train, replace=True, random_state=i-1)\n",
    "\n",
    "            dt_classifier = DecisionTreeClassifier(random_state=11)\n",
    "            dt_classifier.fit(current_x_train, current_y_train)\n",
    "            self.classifiers.append(dt_classifier)\n",
    "\n",
    "            nb_classifier = GaussianNB()\n",
    "            nb_classifier.fit(current_x_train, current_y_train)\n",
    "            self.classifiers.append(nb_classifier)\n",
    "\n",
    "            knn_classifier = KNeighborsClassifier()\n",
    "            knn_classifier.fit(current_x_train, current_y_train)\n",
    "            self.classifiers.append(knn_classifier)\n",
    "\n",
    "    def predict(self, x_test):\n",
    "        predictions = []\n",
    "        \n",
    "        # Faz a predição usando cada um dos classificadores treinados e guarda o resultado obtido\n",
    "        for classifier in self.classifiers:\n",
    "            predictions.append(classifier.predict(x_test))\n",
    "\n",
    "        # Transpor o array faz com que cada linha da matriz sejam todas as predições de um único item\n",
    "        predictions = np.transpose(predictions)\n",
    "\n",
    "        # As classes mais frequentes dentre as predições de cada item\n",
    "        predictions = [self.most_common_predictions(prediction) for prediction in predictions]\n",
    "\n",
    "        # Em caso de empate nas predições de um item, \n",
    "        # escolhe a mais frequente em relação ao conjunto de teste original\n",
    "        predictions = [self.get_final_prediction(prediction) for prediction in predictions]\n",
    "\n",
    "        return predictions\n",
    "\n",
    "\n",
    "    # --------------- Helper functions ---------------\n",
    "\n",
    "    def get_target_frequency_desc(self, y_train):\n",
    "        class_counts = Counter(y_train)\n",
    "        sorted_classes = sorted(class_counts, key=class_counts.get, reverse=True)\n",
    "        return np.array(sorted_classes)\n",
    "\n",
    "    def most_common_predictions(self, item_predictions):\n",
    "        # Conta a frequência de cada classe na lista de predições daquele item\n",
    "        class_counts = Counter(item_predictions)\n",
    "\n",
    "        # Determina a contagem máxima de ocorrências de uma classe\n",
    "        max_count = max(class_counts.values())\n",
    "\n",
    "        # Obtém todas as classes que possuem a contagem máxima\n",
    "        most_common = [predicted_class for predicted_class, count in class_counts.items() if count == max_count]\n",
    "\n",
    "        # Retorna apenas as predições mais frequentes\n",
    "        return most_common\n",
    "    \n",
    "    def get_final_prediction(self, prediction_list):\n",
    "        # Caso haja um empate entre as classes mais votadas, \n",
    "        # escolhe a que mais aparece no conjunto de teste\n",
    "        if len(prediction_list) > 1:\n",
    "            for target in self.target_frequency_desc:\n",
    "                if target in prediction_list:\n",
    "                    return target\n",
    "        else:\n",
    "            return prediction_list[0]\n",
    "\n"
   ]
  },
  {
   "cell_type": "code",
   "execution_count": 29,
   "metadata": {},
   "outputs": [
    {
     "name": "stdout",
     "output_type": "stream",
     "text": [
      "[0.43333333 0.26666667 0.36666667 0.5        0.43333333 0.4\n",
      " 0.5        0.4137931  0.37931034 0.62068966 0.4        0.5\n",
      " 0.4        0.26666667 0.5        0.5        0.4        0.55172414\n",
      " 0.44827586 0.37931034 0.56666667 0.53333333 0.26666667 0.46666667\n",
      " 0.5        0.3        0.43333333 0.44827586 0.4137931  0.4137931 ]\n",
      "\n",
      "Média: 0.43341, Desvio Padrão: 0.08604\n",
      "Intervalo de confiança (95%): [0.40262,0.46420]\n"
     ]
    }
   ],
   "source": [
    "hp = HeterogeneousPoolingClassifier(2)\n",
    "\n",
    "pipeline = Pipeline([('transformer', StandardScaler()), ('estimator', hp)])\n",
    "\n",
    "rkf = RepeatedStratifiedKFold(n_splits=10, n_repeats=3, random_state=36851234)\n",
    "\n",
    "scores_HP = cross_val_score(pipeline, dataset_X, dataset_Y, scoring='accuracy', cv = rkf)\n",
    "\n",
    "# print(scores_HP)\n",
    "\n",
    "classification_report(scores_HP)"
   ]
  },
  {
   "attachments": {},
   "cell_type": "markdown",
   "metadata": {},
   "source": [
    "# Boxplot"
   ]
  },
  {
   "cell_type": "code",
   "execution_count": 33,
   "metadata": {},
   "outputs": [
    {
     "data": {
      "image/png": "[encoded data removed]",
      "text/plain": [
       "<Figure size 640x480 with 1 Axes>"
      ]
     },
     "metadata": {},
     "output_type": "display_data"
    }
   ],
   "source": [
    "zR_scores_df = pd.DataFrame(scores_zR, columns=['accuracy']).assign(classifier='ZR')\n",
    "ba_scores_df = pd.DataFrame(scores_BA, columns=['accuracy']).assign(classifier='BA')\n",
    "ab_scores_df = pd.DataFrame(scores_AB, columns=['accuracy']).assign(classifier='AB')\n",
    "rf_scores_df = pd.DataFrame(scores_RF, columns=['accuracy']).assign(classifier='RF')\n",
    "hp_scores_df = pd.DataFrame(scores_HP, columns=['accuracy']).assign(classifier='HP')\n",
    "\n",
    "boxplot = sns.boxplot(\n",
    "    x='classifier',\n",
    "    y='accuracy', \n",
    "    data=pd.concat([zR_scores_df, ba_scores_df, hp_scores_df,ab_scores_df, rf_scores_df ]),\n",
    "    showmeans=True\n",
    ")"
   ]
  }
 ],
 "metadata": {
  "kernelspec": {
   "display_name": "Python 3",
   "language": "python",
   "name": "python3"
  },
  "language_info": {
   "codemirror_mode": {
    "name": "ipython",
    "version": 3
   },
   "file_extension": ".py",
   "mimetype": "text/x-python",
   "name": "python",
   "nbconvert_exporter": "python",
   "pygments_lexer": "ipython3",
   "version": "3.11.3"
  },
  "orig_nbformat": 4
 },
 "nbformat": 4,
 "nbformat_minor": 2
}
