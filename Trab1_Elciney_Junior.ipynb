{
 "cells": [
  {
   "attachments": {},
   "cell_type": "markdown",
   "metadata": {},
   "source": [
    "# Trabalho 1 - Inteligência Artificial"
   ]
  },
  {
   "attachments": {},
   "cell_type": "markdown",
   "metadata": {},
   "source": [
    "## Imports necessários"
   ]
  },
  {
   "cell_type": "code",
   "execution_count": 36,
   "metadata": {},
   "outputs": [],
   "source": [
    "import pandas as pd\n",
    "import numpy as np\n",
    "from scipy import stats\n",
    "from sklearn.model_selection import cross_val_score, RepeatedStratifiedKFold, GridSearchCV\n",
    "from sklearn.preprocessing import StandardScaler\n",
    "from sklearn.pipeline import Pipeline\n",
    "\n",
    "from sklearn.dummy import DummyClassifier\n",
    "from sklearn.ensemble import BaggingClassifier, AdaBoostClassifier\n",
    "from sklearn.naive_bayes import GaussianNB\n",
    "from sklearn.ensemble import RandomForestClassifier"
   ]
  },
  {
   "attachments": {},
   "cell_type": "markdown",
   "metadata": {},
   "source": [
    "## Base de dados\n",
    "\n",
    "### Matrícula: 2015100346\n",
    "Dessa forma, devido ao final da matrícula ser 6, a base de dados será composta pelos 10 descritores de Fourier e os 7 descritores de Hu."
   ]
  },
  {
   "cell_type": "code",
   "execution_count": 37,
   "metadata": {},
   "outputs": [],
   "source": [
    "# Leitura dos dados\n",
    "df = pd.read_csv('https://raw.githubusercontent.com/VitorBonella/PL-Dataset/main/dataset.csv',sep=\";\") \n",
    "\n",
    "# Transformando a coluna id no índice da tabela\n",
    "df.set_index('id', inplace=True)\n",
    "\n",
    "# Lista de descritores\n",
    "FOURIER = ['df01', 'df02', 'df03', 'df04','df05', 'df06', 'df07', 'df08', 'df09', 'df10']\n",
    "HU = ['i1', 'i2', 'i3', 'i4','i5', 'i6', 'i7']\n",
    "HARALICK = ['probmax', 'energia', 'entropia', 'contraste','homogeneidade', 'correlacao']\n",
    "\n",
    "# Descritores que serão usados nesse trabalho\n",
    "dataset = df[FOURIER + HU] \n",
    "\n",
    "# Transformação dos dados de string para float devido ao uso da vírgula ao invés do ponto\n",
    "dataset = dataset.apply(lambda x: x.str.replace(',', '.').astype(float), axis=1)\n",
    "\n",
    "# Criação das classes baseada no tipo da lâmpada e na potência\n",
    "classes = df['tipo_lampada'].str.replace(\" \", \"\") + df['potencia'].astype(str) \n",
    "\n",
    "# Adiciona a classe ao data frame da base de dados\n",
    "# dataset['classe'] = df['tipo_lampada'].str.replace(\" \", \"\") + df['potencia'].astype(str) \n",
    "\n",
    "# Define a base de dados e as classes target\n",
    "# dataset_X = dataset\n",
    "# dataset_Y = classes\n",
    "\n",
    "from sklearn import datasets\n",
    "dataset = datasets.load_breast_cancer()\n",
    "dataset_X = dataset.data\n",
    "dataset_Y = dataset.target\n",
    "\n",
    "# print(classes)\n",
    "# dataset.head(2)\n"
   ]
  },
  {
   "attachments": {},
   "cell_type": "markdown",
   "metadata": {},
   "source": [
    "# Cálculo dos resultados"
   ]
  },
  {
   "cell_type": "code",
   "execution_count": 38,
   "metadata": {},
   "outputs": [],
   "source": [
    "def classification_report(scores):\n",
    "    print(f'\\nMédia: {scores.mean():.3f}, Desvio Padrão: {scores.std():.3f}')\n",
    "\n",
    "    inf, sup = stats.norm.interval(0.95, loc=scores.mean(), \n",
    "                               scale=scores.std()/np.sqrt(len(scores)))\n",
    "    \n",
    "    print(f'Intervalo de confiança (95%): [{inf:.3f},{sup:.3f}]')"
   ]
  },
  {
   "attachments": {},
   "cell_type": "markdown",
   "metadata": {},
   "source": [
    "# ZeroR (ZR)"
   ]
  },
  {
   "cell_type": "code",
   "execution_count": 39,
   "metadata": {},
   "outputs": [
    {
     "name": "stdout",
     "output_type": "stream",
     "text": [
      "[0.61403509 0.61403509 0.63157895 0.63157895 0.63157895 0.63157895\n",
      " 0.63157895 0.63157895 0.63157895 0.625      0.61403509 0.61403509\n",
      " 0.63157895 0.63157895 0.63157895 0.63157895 0.63157895 0.63157895\n",
      " 0.63157895 0.625      0.61403509 0.61403509 0.63157895 0.63157895\n",
      " 0.63157895 0.63157895 0.63157895 0.63157895 0.63157895 0.625     ]\n",
      "\n",
      "Média: 0.627, Desvio Padrão: 0.007\n",
      "Intervalo de confiança (95%): [0.625,0.630]\n"
     ]
    }
   ],
   "source": [
    "zR = DummyClassifier()\n",
    "\n",
    "pipeline = Pipeline([('transformer', StandardScaler()), ('estimator', zR)])\n",
    "\n",
    "rkf = RepeatedStratifiedKFold(n_splits=10, n_repeats=3, random_state=36851234)\n",
    "\n",
    "scores_zR = cross_val_score(pipeline, dataset_X, dataset_Y, scoring='accuracy', cv = rkf)\n",
    "\n",
    "print(scores_zR)\n",
    "\n",
    "classification_report(scores_zR)"
   ]
  },
  {
   "attachments": {},
   "cell_type": "markdown",
   "metadata": {},
   "source": [
    "# Bagging (BA)"
   ]
  },
  {
   "cell_type": "code",
   "execution_count": 40,
   "metadata": {},
   "outputs": [
    {
     "name": "stdout",
     "output_type": "stream",
     "text": [
      "[0.98245614 0.9122807  0.9122807  0.92982456 0.96491228 0.9122807\n",
      " 0.96491228 0.94736842 0.92982456 0.91071429 0.92982456 0.96491228\n",
      " 0.98245614 0.9122807  0.96491228 0.94736842 0.92982456 0.87719298\n",
      " 0.87719298 0.92857143 0.92982456 0.94736842 0.92982456 0.92982456\n",
      " 0.92982456 0.9122807  0.9122807  0.98245614 0.96491228 0.89285714]\n",
      "\n",
      "Média: 0.934, Desvio Padrão: 0.028\n",
      "Intervalo de confiança (95%): [0.924,0.944]\n"
     ]
    }
   ],
   "source": [
    "grade = {'estimator__n_estimators':[3, 9, 15, 21]}\n",
    "\n",
    "# TODO\n",
    "# Talvez usar um estimador diferente no final do ensemble\n",
    "# Opções: Decision Tree, Random Forest, K-Nearest Neighbors (KNN), Support Vector Machines (SVM)\n",
    "bg = BaggingClassifier(estimator=GaussianNB(), random_state=0)\n",
    "\n",
    "pipeline = Pipeline([('transformer', StandardScaler()), ('estimator', bg)])\n",
    "\n",
    "gs = GridSearchCV(estimator=pipeline, param_grid=grade, scoring='accuracy', cv=4)\n",
    "\n",
    "rkf = RepeatedStratifiedKFold(n_splits=10, n_repeats=3, random_state=36851234)\n",
    "\n",
    "scores_BA = cross_val_score(gs, dataset_X, dataset_Y, scoring='accuracy', cv = rkf)\n",
    "\n",
    "print(scores_BA)\n",
    "\n",
    "classification_report(scores_BA)"
   ]
  },
  {
   "attachments": {},
   "cell_type": "markdown",
   "metadata": {},
   "source": [
    "# AdaBoost (AB)"
   ]
  },
  {
   "cell_type": "code",
   "execution_count": 41,
   "metadata": {},
   "outputs": [
    {
     "name": "stdout",
     "output_type": "stream",
     "text": [
      "[0.9122807  0.89473684 0.96491228 0.89473684 0.94736842 0.59649123\n",
      " 1.         0.87719298 0.78947368 0.91071429 0.85964912 0.77192982\n",
      " 0.98245614 0.92982456 0.85964912 0.85964912 0.89473684 0.92982456\n",
      " 0.8245614  0.92857143 0.78947368 0.94736842 0.75438596 0.9122807\n",
      " 0.98245614 0.9122807  0.92982456 0.85964912 0.96491228 0.89285714]\n",
      "\n",
      "Média: 0.886, Desvio Padrão: 0.082\n",
      "Intervalo de confiança (95%): [0.856,0.915]\n"
     ]
    }
   ],
   "source": [
    "grade = {'estimator__n_estimators':[3, 9, 15, 21]}\n",
    "\n",
    "# TODO\n",
    "# Talvez usar um estimador diferente no final do ensemble\n",
    "# Opções: Decision Tree, Random Forest, K-Nearest Neighbors (KNN), Support Vector Machines (SVM)\n",
    "adb = AdaBoostClassifier(estimator=GaussianNB(), random_state=0)\n",
    "\n",
    "pipeline = Pipeline([('transformer', StandardScaler()), ('estimator', adb)])\n",
    "\n",
    "gs = GridSearchCV(estimator=pipeline, param_grid=grade, scoring='accuracy', cv=4)\n",
    "\n",
    "rkf = RepeatedStratifiedKFold(n_splits=10, n_repeats=3, random_state=36851234)\n",
    "\n",
    "scores_AB = cross_val_score(gs, dataset_X, dataset_Y, scoring='accuracy', cv = rkf)\n",
    "\n",
    "print(scores_AB)\n",
    "\n",
    "classification_report(scores_AB)"
   ]
  },
  {
   "attachments": {},
   "cell_type": "markdown",
   "metadata": {},
   "source": [
    "# RandomForest (RF)"
   ]
  },
  {
   "cell_type": "code",
   "execution_count": 42,
   "metadata": {},
   "outputs": [
    {
     "name": "stdout",
     "output_type": "stream",
     "text": [
      "[0.98245614 0.9122807  0.96491228 0.96491228 1.         0.92982456\n",
      " 0.96491228 0.98245614 0.94736842 0.94642857 0.98245614 0.98245614\n",
      " 1.         0.9122807  0.92982456 0.98245614 0.9122807  0.96491228\n",
      " 0.92982456 0.96428571 0.98245614 0.94736842 0.96491228 0.96491228\n",
      " 0.94736842 0.98245614 0.96491228 0.96491228 0.96491228 0.94642857]\n",
      "\n",
      "Média: 0.960, Desvio Padrão: 0.024\n",
      "Intervalo de confiança (95%): [0.951,0.968]\n"
     ]
    }
   ],
   "source": [
    "grade = {'randomForest__n_estimators': [3, 9, 15, 21]}\n",
    "\n",
    "rF = RandomForestClassifier()\n",
    "\n",
    "pipeline = Pipeline([('transformer', StandardScaler()), ('randomForest', rF)])\n",
    "\n",
    "gs = GridSearchCV(estimator=pipeline, param_grid=grade, scoring='accuracy', cv = 4)\n",
    "\n",
    "rkf = RepeatedStratifiedKFold(n_splits=10, n_repeats=3, random_state=36851234)\n",
    "\n",
    "scores_RF = cross_val_score(gs, dataset_X, dataset_Y, scoring='accuracy', cv = rkf)\n",
    "\n",
    "print(scores_RF)\n",
    "\n",
    "classification_report(scores_RF)\n"
   ]
  },
  {
   "attachments": {},
   "cell_type": "markdown",
   "metadata": {},
   "source": [
    "# Heterogeneous Pooling (HP)"
   ]
  }
 ],
 "metadata": {
  "kernelspec": {
   "display_name": "Python 3",
   "language": "python",
   "name": "python3"
  },
  "language_info": {
   "codemirror_mode": {
    "name": "ipython",
    "version": 3
   },
   "file_extension": ".py",
   "mimetype": "text/x-python",
   "name": "python",
   "nbconvert_exporter": "python",
   "pygments_lexer": "ipython3",
   "version": "3.11.3"
  },
  "orig_nbformat": 4
 },
 "nbformat": 4,
 "nbformat_minor": 2
}
