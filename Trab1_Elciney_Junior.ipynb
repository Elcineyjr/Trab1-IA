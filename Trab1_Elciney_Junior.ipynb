{
 "cells": [
  {
   "attachments": {},
   "cell_type": "markdown",
   "metadata": {},
   "source": [
    "# Trabalho 1 - Inteligência Artificial"
   ]
  },
  {
   "attachments": {},
   "cell_type": "markdown",
   "metadata": {},
   "source": [
    "## Imports necessários"
   ]
  },
  {
   "cell_type": "code",
   "execution_count": 89,
   "metadata": {},
   "outputs": [],
   "source": [
    "import pandas as pd\n",
    "import numpy as np\n",
    "import seaborn as sns\n",
    "from scipy import stats\n",
    "from sklearn.model_selection import cross_val_score, RepeatedStratifiedKFold, GridSearchCV\n",
    "from sklearn.preprocessing import StandardScaler\n",
    "from sklearn.pipeline import Pipeline\n",
    "from sklearn.dummy import DummyClassifier\n",
    "from sklearn.ensemble import BaggingClassifier, AdaBoostClassifier\n",
    "from sklearn.naive_bayes import GaussianNB\n",
    "from sklearn.ensemble import RandomForestClassifier\n",
    "from sklearn.utils import resample\n",
    "from sklearn.utils.validation import check_X_y\n",
    "from sklearn.tree import DecisionTreeClassifier\n",
    "from sklearn.naive_bayes import GaussianNB\n",
    "from sklearn.neighbors import KNeighborsClassifier\n",
    "from collections import Counter\n",
    "from sklearn.base import BaseEstimator"
   ]
  },
  {
   "attachments": {},
   "cell_type": "markdown",
   "metadata": {},
   "source": [
    "## Base de dados\n",
    "\n",
    "### Matrícula: 2015100346\n",
    "Dessa forma, devido ao final da matrícula ser 6, a base de dados será composta pelos 10 descritores de Fourier e os 7 descritores de Hu."
   ]
  },
  {
   "cell_type": "code",
   "execution_count": 90,
   "metadata": {},
   "outputs": [],
   "source": [
    "# Leitura dos dados\n",
    "df = pd.read_csv('https://raw.githubusercontent.com/VitorBonella/PL-Dataset/main/dataset.csv',sep=\";\") \n",
    "\n",
    "# Transformando a coluna id no índice da tabela\n",
    "df.set_index('id', inplace=True)\n",
    "\n",
    "# Lista de descritores\n",
    "FOURIER = ['df01', 'df02', 'df03', 'df04','df05', 'df06', 'df07', 'df08', 'df09', 'df10']\n",
    "HU = ['i1', 'i2', 'i3', 'i4','i5', 'i6', 'i7']\n",
    "HARALICK = ['probmax', 'energia', 'entropia', 'contraste','homogeneidade', 'correlacao']\n",
    "\n",
    "# Descritores que serão usados nesse trabalho\n",
    "dataset = df[FOURIER + HU] \n",
    "\n",
    "# Transformação dos dados de string para float devido ao uso da vírgula ao invés do ponto\n",
    "dataset = dataset.apply(lambda x: x.str.replace(',', '.').astype(float), axis=1)\n",
    "\n",
    "# Criação das classes baseada no tipo da lâmpada e na potência\n",
    "classes = df['tipo_lampada'].str.replace(\" \", \"\") + df['potencia'].astype(str) \n",
    "\n",
    "# Define a base de dados e as classes target\n",
    "dataset_X = dataset\n",
    "dataset_Y = classes"
   ]
  },
  {
   "attachments": {},
   "cell_type": "markdown",
   "metadata": {},
   "source": [
    "# Cálculo dos resultados"
   ]
  },
  {
   "cell_type": "code",
   "execution_count": 91,
   "metadata": {},
   "outputs": [],
   "source": [
    "def classification_report(scores):\n",
    "    print(f'\\nMédia: {scores.mean():.5f}, Desvio Padrão: {scores.std():.5f}')\n",
    "\n",
    "    inf, sup = stats.norm.interval(0.95, loc=scores.mean(), \n",
    "                               scale=scores.std()/np.sqrt(len(scores)))\n",
    "    \n",
    "    print(f'Intervalo de confiança (95%): [{inf:.5f},{sup:.5f}]')"
   ]
  },
  {
   "attachments": {},
   "cell_type": "markdown",
   "metadata": {},
   "source": [
    "# ZeroR (ZR)"
   ]
  },
  {
   "cell_type": "code",
   "execution_count": 92,
   "metadata": {},
   "outputs": [
    {
     "name": "stdout",
     "output_type": "stream",
     "text": [
      "\n",
      "Média: 0.16506, Desvio Padrão: 0.01088\n",
      "Intervalo de confiança (95%): [0.16116,0.16895]\n"
     ]
    }
   ],
   "source": [
    "zR = DummyClassifier(random_state=11)\n",
    "\n",
    "pipeline = Pipeline([('transformer', StandardScaler()), ('estimator', zR)])\n",
    "\n",
    "rkf = RepeatedStratifiedKFold(n_splits=10, n_repeats=3, random_state=36851234)\n",
    "\n",
    "scores_zR = cross_val_score(pipeline, dataset_X, dataset_Y, scoring='accuracy', cv = rkf)\n",
    "\n",
    "# print(scores_zR)\n",
    "\n",
    "classification_report(scores_zR)"
   ]
  },
  {
   "attachments": {},
   "cell_type": "markdown",
   "metadata": {},
   "source": [
    "# Bagging (BA)"
   ]
  },
  {
   "cell_type": "code",
   "execution_count": 93,
   "metadata": {},
   "outputs": [
    {
     "name": "stdout",
     "output_type": "stream",
     "text": [
      "\n",
      "Média: 0.33245, Desvio Padrão: 0.09350\n",
      "Intervalo de confiança (95%): [0.29899,0.36591]\n"
     ]
    }
   ],
   "source": [
    "grade = {'estimator__n_estimators':[3, 9, 15, 21]}\n",
    "\n",
    "bg = BaggingClassifier(estimator=GaussianNB(), random_state=11)\n",
    "\n",
    "pipeline = Pipeline([('transformer', StandardScaler()), ('estimator', bg)])\n",
    "\n",
    "gs = GridSearchCV(estimator=pipeline, param_grid=grade, scoring='accuracy', cv=4)\n",
    "\n",
    "rkf = RepeatedStratifiedKFold(n_splits=10, n_repeats=3, random_state=36851234)\n",
    "\n",
    "scores_BA = cross_val_score(gs, dataset_X, dataset_Y, scoring='accuracy', cv = rkf)\n",
    "\n",
    "# print(scores_BA)\n",
    "\n",
    "classification_report(scores_BA)"
   ]
  },
  {
   "attachments": {},
   "cell_type": "markdown",
   "metadata": {},
   "source": [
    "# AdaBoost (AB)"
   ]
  },
  {
   "cell_type": "code",
   "execution_count": 94,
   "metadata": {},
   "outputs": [
    {
     "name": "stdout",
     "output_type": "stream",
     "text": [
      "\n",
      "Média: 0.31352, Desvio Padrão: 0.09113\n",
      "Intervalo de confiança (95%): [0.28091,0.34614]\n"
     ]
    }
   ],
   "source": [
    "grade = {'estimator__n_estimators':[3, 9, 15, 21]}\n",
    "\n",
    "adb = AdaBoostClassifier(estimator=GaussianNB(), random_state=11)\n",
    "\n",
    "pipeline = Pipeline([('transformer', StandardScaler()), ('estimator', adb)])\n",
    "\n",
    "gs = GridSearchCV(estimator=pipeline, param_grid=grade, scoring='accuracy', cv=4)\n",
    "\n",
    "rkf = RepeatedStratifiedKFold(n_splits=10, n_repeats=3, random_state=36851234)\n",
    "\n",
    "scores_AB = cross_val_score(gs, dataset_X, dataset_Y, scoring='accuracy', cv = rkf)\n",
    "\n",
    "# print(scores_AB)\n",
    "\n",
    "classification_report(scores_AB)"
   ]
  },
  {
   "attachments": {},
   "cell_type": "markdown",
   "metadata": {},
   "source": [
    "# RandomForest (RF)"
   ]
  },
  {
   "cell_type": "code",
   "execution_count": 95,
   "metadata": {},
   "outputs": [
    {
     "name": "stdout",
     "output_type": "stream",
     "text": [
      "\n",
      "Média: 0.50992, Desvio Padrão: 0.09314\n",
      "Intervalo de confiança (95%): [0.47659,0.54325]\n"
     ]
    }
   ],
   "source": [
    "grade = {'estimator__n_estimators': [3, 9, 15, 21]}\n",
    "\n",
    "rF = RandomForestClassifier(random_state=11)\n",
    "\n",
    "pipeline = Pipeline([('transformer', StandardScaler()), ('estimator', rF)])\n",
    "\n",
    "gs = GridSearchCV(estimator=pipeline, param_grid=grade, scoring='accuracy', cv = 4)\n",
    "\n",
    "rkf = RepeatedStratifiedKFold(n_splits=10, n_repeats=3, random_state=36851234)\n",
    "\n",
    "scores_RF = cross_val_score(gs, dataset_X, dataset_Y, scoring='accuracy', cv = rkf)\n",
    "\n",
    "# print(scores_RF)\n",
    "\n",
    "classification_report(scores_RF)\n"
   ]
  },
  {
   "attachments": {},
   "cell_type": "markdown",
   "metadata": {},
   "source": [
    "# Heterogeneous Pooling (HP)"
   ]
  },
  {
   "cell_type": "code",
   "execution_count": 96,
   "metadata": {},
   "outputs": [],
   "source": [
    "class HeterogeneousPoolingClassifier(BaseEstimator):\n",
    "    def __init__(self, n_samples=None):\n",
    "        super().__init__()\n",
    "        self.n_samples = n_samples\n",
    "        \n",
    "        # Lista com os classificadores treinados\n",
    "        self.classifiers = []\n",
    "\n",
    "        # Lista de classes ordenada de forma decrescente pela quantidade de aparições\n",
    "        self.target_frequency_desc = []\n",
    "\n",
    "    def fit(self, x_train, y_train):\n",
    "        x_train, y_train = check_X_y(x_train, y_train)\n",
    "        self.target_frequency_desc = self.get_target_frequency_desc(y_train)\n",
    "\n",
    "        for i in range(self.n_samples):\n",
    "            # A primeira iteração usa a base original para treinamento\n",
    "            if i == 0:\n",
    "                current_x_train, current_y_train = x_train, y_train\n",
    "            else:\n",
    "                # Base diferente da original usando resample\n",
    "                current_x_train, current_y_train = resample(x_train, y_train, replace=True, random_state=i-1)\n",
    "\n",
    "            dt_classifier = DecisionTreeClassifier(random_state=11)\n",
    "            dt_classifier.fit(current_x_train, current_y_train)\n",
    "            self.classifiers.append(dt_classifier)\n",
    "\n",
    "            nb_classifier = GaussianNB()\n",
    "            nb_classifier.fit(current_x_train, current_y_train)\n",
    "            self.classifiers.append(nb_classifier)\n",
    "\n",
    "            knn_classifier = KNeighborsClassifier()\n",
    "            knn_classifier.fit(current_x_train, current_y_train)\n",
    "            self.classifiers.append(knn_classifier)\n",
    "\n",
    "    def predict(self, x_test):\n",
    "        predictions = []\n",
    "        \n",
    "        # Faz a predição usando cada um dos classificadores treinados e guarda o resultado obtido\n",
    "        for classifier in self.classifiers:\n",
    "            predictions.append(classifier.predict(x_test))\n",
    "\n",
    "        # Transpor o array faz com que cada linha da matriz sejam todas as predições de um único item\n",
    "        predictions = np.transpose(predictions)\n",
    "\n",
    "        # As classes mais frequentes dentre as predições de cada item\n",
    "        predictions = [self.most_common_predictions(prediction) for prediction in predictions]\n",
    "\n",
    "        # Em caso de empate nas predições de um item, \n",
    "        # escolhe a mais frequente em relação ao conjunto de teste original\n",
    "        predictions = [self.get_final_prediction(prediction) for prediction in predictions]\n",
    "\n",
    "        return predictions\n",
    "\n",
    "\n",
    "    # --------------- Helper functions ---------------\n",
    "\n",
    "    def get_target_frequency_desc(self, y_train):\n",
    "        class_counts = Counter(y_train)\n",
    "        sorted_classes = sorted(class_counts, key=class_counts.get, reverse=True)\n",
    "        return np.array(sorted_classes)\n",
    "\n",
    "    def most_common_predictions(self, item_predictions):\n",
    "        # Conta a frequência de cada classe na lista de predições daquele item\n",
    "        class_counts = Counter(item_predictions)\n",
    "\n",
    "        # Determina a contagem máxima de ocorrências de uma classe\n",
    "        max_count = max(class_counts.values())\n",
    "\n",
    "        # Obtém todas as classes que possuem a contagem máxima\n",
    "        most_common = [predicted_class for predicted_class, count in class_counts.items() if count == max_count]\n",
    "\n",
    "        # Retorna apenas as predições mais frequentes\n",
    "        return most_common\n",
    "    \n",
    "    def get_final_prediction(self, prediction_list):\n",
    "        # Caso haja um empate entre as classes mais votadas, \n",
    "        # escolhe a que mais aparece no conjunto de teste\n",
    "        if len(prediction_list) > 1:\n",
    "            for target in self.target_frequency_desc:\n",
    "                if target in prediction_list:\n",
    "                    return target\n",
    "        else:\n",
    "            return prediction_list[0]\n",
    "\n"
   ]
  },
  {
   "cell_type": "code",
   "execution_count": 97,
   "metadata": {},
   "outputs": [
    {
     "name": "stdout",
     "output_type": "stream",
     "text": [
      "\n",
      "Média: 0.46038, Desvio Padrão: 0.08024\n",
      "Intervalo de confiança (95%): [0.43167,0.48910]\n"
     ]
    }
   ],
   "source": [
    "grade={'estimator__n_samples': [1, 3, 5, 7]}\n",
    "\n",
    "hp = HeterogeneousPoolingClassifier()\n",
    "\n",
    "pipeline = Pipeline([('transformer', StandardScaler()), ('estimator', hp)])\n",
    "\n",
    "gs = GridSearchCV(estimator=pipeline, param_grid=grade, scoring='accuracy', cv = 4)\n",
    "\n",
    "rkf = RepeatedStratifiedKFold(n_splits=10, n_repeats=3, random_state=36851234)\n",
    "\n",
    "scores_HP = cross_val_score(gs, dataset_X, dataset_Y, scoring='accuracy', cv = rkf)\n",
    "\n",
    "# print(scores_HP)\n",
    "\n",
    "classification_report(scores_HP)"
   ]
  },
  {
   "attachments": {},
   "cell_type": "markdown",
   "metadata": {},
   "source": [
    "# Boxplot"
   ]
  },
  {
   "cell_type": "code",
   "execution_count": 98,
   "metadata": {},
   "outputs": [
    {
     "data": {
      "image/png": "[encoded data removed]",
      "text/plain": [
       "<Figure size 640x480 with 1 Axes>"
      ]
     },
     "metadata": {},
     "output_type": "display_data"
    }
   ],
   "source": [
    "zR_scores_df = pd.DataFrame(scores_zR, columns=['accuracy']).assign(classifier='ZR')\n",
    "ba_scores_df = pd.DataFrame(scores_BA, columns=['accuracy']).assign(classifier='BA')\n",
    "ab_scores_df = pd.DataFrame(scores_AB, columns=['accuracy']).assign(classifier='AB')\n",
    "rf_scores_df = pd.DataFrame(scores_RF, columns=['accuracy']).assign(classifier='RF')\n",
    "hp_scores_df = pd.DataFrame(scores_HP, columns=['accuracy']).assign(classifier='HP')\n",
    "\n",
    "boxplot = sns.boxplot(\n",
    "    x='classifier',\n",
    "    y='accuracy', \n",
    "    data=pd.concat([zR_scores_df, ba_scores_df, ab_scores_df, rf_scores_df, hp_scores_df]),\n",
    "    showmeans=True\n",
    ")"
   ]
  },
  {
   "attachments": {},
   "cell_type": "markdown",
   "metadata": {},
   "source": [
    "# Teste T pareado e Wilcoxon"
   ]
  },
  {
   "cell_type": "code",
   "execution_count": 100,
   "metadata": {},
   "outputs": [
    {
     "name": "stdout",
     "output_type": "stream",
     "text": [
      "t pareado\n",
      "ZR <> BA: 0.000\n",
      "ZR <> AB: 0.000\n",
      "ZR <> RF: 0.000\n",
      "ZR <> HP: 0.000\n",
      "BA <> AB: 0.430\n",
      "BA <> RF: 0.000\n",
      "BA <> HP: 0.000\n",
      "AB <> RF: 0.000\n",
      "AB <> HP: 0.000\n",
      "RF <> HP: 0.004\n",
      "wilcoxon\n",
      "ZR <> BA: 0.000\n",
      "ZR <> AB: 0.000\n",
      "ZR <> RF: 0.000\n",
      "ZR <> HP: 0.000\n",
      "BA <> AB: 0.484\n",
      "BA <> RF: 0.000\n",
      "BA <> HP: 0.000\n",
      "AB <> RF: 0.000\n",
      "AB <> HP: 0.000\n",
      "RF <> HP: 0.003\n"
     ]
    }
   ],
   "source": [
    "print('t pareado')\n",
    "\n",
    "stat, p = stats.ttest_rel(scores_zR, scores_BA)\n",
    "print (f'ZR <> BA: {p:.3f}')\n",
    "\n",
    "stat, p = stats.ttest_rel(scores_zR, scores_AB)\n",
    "print (f'ZR <> AB: {p:.3f}')\n",
    "\n",
    "stat, p = stats.ttest_rel(scores_zR, scores_RF)\n",
    "print (f'ZR <> RF: {p:.3f}')\n",
    "\n",
    "stat, p = stats.ttest_rel(scores_zR, scores_HP)\n",
    "print (f'ZR <> HP: {p:.3f}')\n",
    "\n",
    "stat, p = stats.ttest_rel(scores_BA, scores_AB)\n",
    "print (f'BA <> AB: {p:.3f}')\n",
    "\n",
    "stat, p = stats.ttest_rel(scores_BA, scores_RF)\n",
    "print (f'BA <> RF: {p:.3f}')\n",
    "\n",
    "stat, p = stats.ttest_rel(scores_BA, scores_HP)\n",
    "print (f'BA <> HP: {p:.3f}')\n",
    "\n",
    "stat, p = stats.ttest_rel(scores_AB, scores_RF)\n",
    "print (f'AB <> RF: {p:.3f}')\n",
    "\n",
    "stat, p = stats.ttest_rel(scores_AB, scores_HP)\n",
    "print (f'AB <> HP: {p:.3f}')\n",
    "\n",
    "stat, p = stats.ttest_rel(scores_RF, scores_HP)\n",
    "print (f'RF <> HP: {p:.3f}')\n",
    "\n",
    "\n",
    "print('wilcoxon')\n",
    "\n",
    "stat, p = stats.wilcoxon(scores_zR, scores_BA)\n",
    "print (f'ZR <> BA: {p:.3f}')\n",
    "\n",
    "stat, p = stats.wilcoxon(scores_zR, scores_AB)\n",
    "print (f'ZR <> AB: {p:.3f}')\n",
    "\n",
    "stat, p = stats.wilcoxon(scores_zR, scores_RF)\n",
    "print (f'ZR <> RF: {p:.3f}')\n",
    "\n",
    "stat, p = stats.wilcoxon(scores_zR, scores_HP)\n",
    "print (f'ZR <> HP: {p:.3f}')\n",
    "\n",
    "stat, p = stats.wilcoxon(scores_BA, scores_AB)\n",
    "print (f'BA <> AB: {p:.3f}')\n",
    "\n",
    "stat, p = stats.wilcoxon(scores_BA, scores_RF)\n",
    "print (f'BA <> RF: {p:.3f}')\n",
    "\n",
    "stat, p = stats.wilcoxon(scores_BA, scores_HP)\n",
    "print (f'BA <> HP: {p:.3f}')\n",
    "\n",
    "stat, p = stats.wilcoxon(scores_AB, scores_RF)\n",
    "print (f'AB <> RF: {p:.3f}')\n",
    "\n",
    "stat, p = stats.wilcoxon(scores_AB, scores_HP)\n",
    "print (f'AB <> HP: {p:.3f}')\n",
    "\n",
    "stat, p = stats.wilcoxon(scores_RF, scores_HP)\n",
    "print (f'RF <> HP: {p:.3f}')\n",
    "\n"
   ]
  }
 ],
 "metadata": {
  "kernelspec": {
   "display_name": "Python 3",
   "language": "python",
   "name": "python3"
  },
  "language_info": {
   "codemirror_mode": {
    "name": "ipython",
    "version": 3
   },
   "file_extension": ".py",
   "mimetype": "text/x-python",
   "name": "python",
   "nbconvert_exporter": "python",
   "pygments_lexer": "ipython3",
   "version": "3.11.3"
  },
  "orig_nbformat": 4
 },
 "nbformat": 4,
 "nbformat_minor": 2
}
